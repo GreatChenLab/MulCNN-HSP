{
 "cells": [
  {
   "cell_type": "code",
   "execution_count": 1,
   "metadata": {},
   "outputs": [],
   "source": [
    "import numpy as np\n",
    "import pandas as pd\n",
    "import matplotlib.pyplot as plt\n",
    "from Bio import SeqIO\n",
    "import tensorflow as tf\n",
    "from tensorflow.keras import Input, Model\n",
    "from tensorflow.keras.layers import Embedding,Dense,Flatten,Dropout,Conv1D,BatchNormalization,GlobalMaxPool1D\n",
    "from sklearn.model_selection import StratifiedKFold\n",
    "from sklearn.metrics import roc_curve,auc\n",
    "from sklearn.metrics import precision_recall_curve,average_precision_score"
   ]
  },
  {
   "cell_type": "code",
   "execution_count": 2,
   "metadata": {},
   "outputs": [
    {
     "data": {
      "text/plain": [
       "(354, 354)"
      ]
     },
     "execution_count": 2,
     "metadata": {},
     "output_type": "execute_result"
    }
   ],
   "source": [
    "HSP_20_name = []\n",
    "HSP_20_seq = []\n",
    "for seq_record in SeqIO.parse(\"data/HSP20.fasta\", \"fasta\"):\n",
    "    HSP_20_name.append(seq_record.id)\n",
    "    HSP_20_seq.append(seq_record.seq)\n",
    "len(HSP_20_name),len(HSP_20_seq)"
   ]
  },
  {
   "cell_type": "code",
   "execution_count": 3,
   "metadata": {},
   "outputs": [
    {
     "data": {
      "text/plain": [
       "(1257, 1257)"
      ]
     },
     "execution_count": 3,
     "metadata": {},
     "output_type": "execute_result"
    }
   ],
   "source": [
    "HSP_40_name = []\n",
    "HSP_40_seq = []\n",
    "for seq_record in SeqIO.parse(\"data/HSP40.fasta\", \"fasta\"):\n",
    "    HSP_40_name.append(seq_record.id)\n",
    "    HSP_40_seq.append(seq_record.seq)\n",
    "len(HSP_40_name),len(HSP_40_seq)"
   ]
  },
  {
   "cell_type": "code",
   "execution_count": 4,
   "metadata": {},
   "outputs": [
    {
     "data": {
      "text/plain": [
       "(159, 159)"
      ]
     },
     "execution_count": 4,
     "metadata": {},
     "output_type": "execute_result"
    }
   ],
   "source": [
    "HSP_60_name = []\n",
    "HSP_60_seq = []\n",
    "for seq_record in SeqIO.parse(\"data/HSP60.fasta\", \"fasta\"):\n",
    "    HSP_60_name.append(seq_record.id)\n",
    "    HSP_60_seq.append(seq_record.seq)\n",
    "len(HSP_60_name),len(HSP_60_seq)"
   ]
  },
  {
   "cell_type": "code",
   "execution_count": 5,
   "metadata": {},
   "outputs": [
    {
     "data": {
      "text/plain": [
       "(278, 278)"
      ]
     },
     "execution_count": 5,
     "metadata": {},
     "output_type": "execute_result"
    }
   ],
   "source": [
    "HSP_70_name = []\n",
    "HSP_70_seq = []\n",
    "for seq_record in SeqIO.parse(\"data/HSP70.fasta\", \"fasta\"):\n",
    "    HSP_70_name.append(seq_record.id)\n",
    "    HSP_70_seq.append(seq_record.seq)\n",
    "len(HSP_70_name),len(HSP_70_seq)"
   ]
  },
  {
   "cell_type": "code",
   "execution_count": 6,
   "metadata": {},
   "outputs": [
    {
     "data": {
      "text/plain": [
       "(52, 52)"
      ]
     },
     "execution_count": 6,
     "metadata": {},
     "output_type": "execute_result"
    }
   ],
   "source": [
    "HSP_90_name = []\n",
    "HSP_90_seq = []\n",
    "for seq_record in SeqIO.parse(\"data/HSP90.fasta\", \"fasta\"):\n",
    "    HSP_90_name.append(seq_record.id)\n",
    "    HSP_90_seq.append(seq_record.seq)\n",
    "len(HSP_90_name),len(HSP_90_seq)"
   ]
  },
  {
   "cell_type": "code",
   "execution_count": 7,
   "metadata": {},
   "outputs": [
    {
     "data": {
      "text/plain": [
       "(81, 81)"
      ]
     },
     "execution_count": 7,
     "metadata": {},
     "output_type": "execute_result"
    }
   ],
   "source": [
    "HSP_100_name = []\n",
    "HSP_100_seq = []\n",
    "for seq_record in SeqIO.parse(\"data/HSP100.fasta\", \"fasta\"):\n",
    "    HSP_100_name.append(seq_record.id)\n",
    "    HSP_100_seq.append(seq_record.seq)\n",
    "len(HSP_100_name),len(HSP_100_seq)"
   ]
  },
  {
   "cell_type": "code",
   "execution_count": 8,
   "metadata": {},
   "outputs": [
    {
     "data": {
      "text/plain": [
       "(9965, 9965)"
      ]
     },
     "execution_count": 8,
     "metadata": {},
     "output_type": "execute_result"
    }
   ],
   "source": [
    "non_HSP_name = []\n",
    "non_HSP_seq = []\n",
    "for seq_record in SeqIO.parse(\"data/NonHSP.fasta\", \"fasta\"):\n",
    "    non_HSP_name.append(seq_record.id)\n",
    "    non_HSP_seq.append(seq_record.seq)\n",
    "len(non_HSP_name),len(non_HSP_seq)"
   ]
  },
  {
   "cell_type": "code",
   "execution_count": 9,
   "metadata": {},
   "outputs": [
    {
     "data": {
      "text/plain": [
       "(12, 12)"
      ]
     },
     "execution_count": 9,
     "metadata": {},
     "output_type": "execute_result"
    }
   ],
   "source": [
    "HSP_20_ind_name = []\n",
    "HSP_20_ind_seq = []\n",
    "for seq_record in SeqIO.parse(\"data/HSP20_test.fasta\", \"fasta\"):\n",
    "    HSP_20_ind_name.append(seq_record.id)\n",
    "    HSP_20_ind_seq.append(seq_record.seq)\n",
    "len(HSP_20_ind_name),len(HSP_20_ind_seq)"
   ]
  },
  {
   "cell_type": "code",
   "execution_count": 10,
   "metadata": {},
   "outputs": [
    {
     "data": {
      "text/plain": [
       "(52, 52)"
      ]
     },
     "execution_count": 10,
     "metadata": {},
     "output_type": "execute_result"
    }
   ],
   "source": [
    "HSP_40_ind_name = []\n",
    "HSP_40_ind_seq = []\n",
    "for seq_record in SeqIO.parse(\"data/HSP40_test.fasta\", \"fasta\"):\n",
    "    HSP_40_ind_name.append(seq_record.id)\n",
    "    HSP_40_ind_seq.append(seq_record.seq)\n",
    "len(HSP_40_ind_name),len(HSP_40_ind_seq)"
   ]
  },
  {
   "cell_type": "code",
   "execution_count": 11,
   "metadata": {},
   "outputs": [
    {
     "data": {
      "text/plain": [
       "51"
      ]
     },
     "execution_count": 11,
     "metadata": {},
     "output_type": "execute_result"
    }
   ],
   "source": [
    "del HSP_40_ind_seq[10]\n",
    "len(HSP_40_ind_seq)"
   ]
  },
  {
   "cell_type": "code",
   "execution_count": 12,
   "metadata": {},
   "outputs": [
    {
     "data": {
      "text/plain": [
       "(8, 8)"
      ]
     },
     "execution_count": 12,
     "metadata": {},
     "output_type": "execute_result"
    }
   ],
   "source": [
    "HSP_60_ind_name = []\n",
    "HSP_60_ind_seq = []\n",
    "for seq_record in SeqIO.parse(\"data/HSP60_test.fasta\", \"fasta\"):\n",
    "    HSP_60_ind_name.append(seq_record.id)\n",
    "    HSP_60_ind_seq.append(seq_record.seq)\n",
    "len(HSP_60_ind_name),len(HSP_60_ind_seq)"
   ]
  },
  {
   "cell_type": "code",
   "execution_count": 13,
   "metadata": {},
   "outputs": [
    {
     "data": {
      "text/plain": [
       "(53, 53)"
      ]
     },
     "execution_count": 13,
     "metadata": {},
     "output_type": "execute_result"
    }
   ],
   "source": [
    "HSP_70_ind_name = []\n",
    "HSP_70_ind_seq = []\n",
    "for seq_record in SeqIO.parse(\"data/HSP70_test.fasta\", \"fasta\"):\n",
    "    HSP_70_ind_name.append(seq_record.id)\n",
    "    HSP_70_ind_seq.append(seq_record.seq)\n",
    "len(HSP_70_ind_name),len(HSP_70_ind_seq)"
   ]
  },
  {
   "cell_type": "code",
   "execution_count": 14,
   "metadata": {},
   "outputs": [
    {
     "data": {
      "text/plain": [
       "(35, 35)"
      ]
     },
     "execution_count": 14,
     "metadata": {},
     "output_type": "execute_result"
    }
   ],
   "source": [
    "HSP_90_ind_name = []\n",
    "HSP_90_ind_seq = []\n",
    "for seq_record in SeqIO.parse(\"data/HSP90_test.fasta\", \"fasta\"):\n",
    "    HSP_90_ind_name.append(seq_record.id)\n",
    "    HSP_90_ind_seq.append(seq_record.seq)\n",
    "len(HSP_90_ind_name),len(HSP_90_ind_seq)"
   ]
  },
  {
   "cell_type": "code",
   "execution_count": 15,
   "metadata": {},
   "outputs": [
    {
     "data": {
      "text/plain": [
       "(20, 20)"
      ]
     },
     "execution_count": 15,
     "metadata": {},
     "output_type": "execute_result"
    }
   ],
   "source": [
    "HSP_100_ind_name = []\n",
    "HSP_100_ind_seq = []\n",
    "for seq_record in SeqIO.parse(\"data/HSP100_test.fasta\", \"fasta\"):\n",
    "    HSP_100_ind_name.append(seq_record.id)\n",
    "    HSP_100_ind_seq.append(seq_record.seq)\n",
    "len(HSP_100_ind_name),len(HSP_100_ind_seq)"
   ]
  },
  {
   "cell_type": "code",
   "execution_count": 16,
   "metadata": {},
   "outputs": [
    {
     "data": {
      "text/plain": [
       "(500, 500)"
      ]
     },
     "execution_count": 16,
     "metadata": {},
     "output_type": "execute_result"
    }
   ],
   "source": [
    "non_HSP_ind_name = []\n",
    "non_HSP_ind_seq = []\n",
    "for seq_record in SeqIO.parse(\"data/NonHSP_test.fasta\", \"fasta\"):\n",
    "    non_HSP_ind_name.append(seq_record.id)\n",
    "    non_HSP_ind_seq.append(seq_record.seq)\n",
    "len(non_HSP_ind_name),len(non_HSP_ind_seq)"
   ]
  },
  {
   "cell_type": "code",
   "execution_count": 17,
   "metadata": {},
   "outputs": [],
   "source": [
    "def one_hot(seq_matrix):\n",
    "    one_hot = []\n",
    "    ind_to_char = ['A', 'C', 'D', 'E', 'F', 'G', 'H', 'I', 'K', 'L', 'M','N','P', 'Q', 'R', 'S', 'T', 'V', 'W', 'Y']\n",
    "    char_to_ind = {char: i for i, char in enumerate(ind_to_char)}\n",
    "    #整数编码\n",
    "    for data in seq_matrix:\n",
    "        integer_encoded = [char_to_ind[char] for char in data]\n",
    "        #one-hot编码\n",
    "        onehot_encoded = []\n",
    "        for value in integer_encoded:\n",
    "            letter = tf.eye(len(ind_to_char))\n",
    "            onehot_encoded.append(letter[value])\n",
    "        one_hot.append(np.array(onehot_encoded))\n",
    "    return one_hot"
   ]
  },
  {
   "cell_type": "code",
   "execution_count": null,
   "metadata": {},
   "outputs": [],
   "source": [
    "HSP_20_onehot = one_hot(HSP_20_seq)\n",
    "HSP_40_onehot = one_hot(HSP_40_seq)\n",
    "HSP_60_onehot = one_hot(HSP_60_seq)\n",
    "HSP_70_onehot = one_hot(HSP_70_seq)\n",
    "HSP_90_onehot = one_hot(HSP_90_seq)\n",
    "HSP_100_onehot = one_hot(HSP_100_seq)\n",
    "non_HSP_onehot = one_hot(non_HSP_seq)"
   ]
  },
  {
   "cell_type": "code",
   "execution_count": null,
   "metadata": {},
   "outputs": [],
   "source": [
    "HSP_20_ind_onehot = one_hot(HSP_20_ind_seq)\n",
    "HSP_40_ind_onehot = one_hot(HSP_40_ind_seq)\n",
    "HSP_60_ind_onehot = one_hot(HSP_60_ind_seq)\n",
    "HSP_70_ind_onehot = one_hot(HSP_70_ind_seq)\n",
    "HSP_90_ind_onehot = one_hot(HSP_90_ind_seq)\n",
    "HSP_100_ind_onehot = one_hot(HSP_100_ind_seq)\n",
    "non_HSP_ind_onehot = one_hot(non_HSP_ind_seq)"
   ]
  },
  {
   "cell_type": "code",
   "execution_count": 20,
   "metadata": {},
   "outputs": [],
   "source": [
    "def seq_padding(data):\n",
    "    data_new = []\n",
    "    maxlen = 3321\n",
    "    for i in range(len(data)):\n",
    "        seq_new = tf.pad(data[i],[[0,maxlen-len(data[i])],[0,0]])\n",
    "        data_new.append(seq_new)\n",
    "    return data_new"
   ]
  },
  {
   "cell_type": "code",
   "execution_count": 21,
   "metadata": {},
   "outputs": [
    {
     "name": "stdout",
     "output_type": "stream",
     "text": [
      "(354, 3321, 20)\n",
      "(1257, 3321, 20)\n",
      "(159, 3321, 20)\n",
      "(278, 3321, 20)\n",
      "(52, 3321, 20)\n",
      "(81, 3321, 20)\n",
      "(9965, 3321, 20)\n"
     ]
    }
   ],
   "source": [
    "HSP_20_onehot = seq_padding(HSP_20_onehot)\n",
    "HSP_20_onehot = np.array(HSP_20_onehot)\n",
    "print(HSP_20_onehot.shape)\n",
    "HSP_40_onehot = seq_padding(HSP_40_onehot)\n",
    "HSP_40_onehot = np.array(HSP_40_onehot)\n",
    "print(HSP_40_onehot.shape)\n",
    "HSP_60_onehot = seq_padding(HSP_60_onehot)\n",
    "HSP_60_onehot = np.array(HSP_60_onehot)\n",
    "print(HSP_60_onehot.shape)\n",
    "HSP_70_onehot = seq_padding(HSP_70_onehot)\n",
    "HSP_70_onehot = np.array(HSP_70_onehot)\n",
    "print(HSP_70_onehot.shape)\n",
    "HSP_90_onehot = seq_padding(HSP_90_onehot)\n",
    "HSP_90_onehot = np.array(HSP_90_onehot)\n",
    "print(HSP_90_onehot.shape)\n",
    "HSP_100_onehot = seq_padding(HSP_100_onehot)\n",
    "HSP_100_onehot = np.array(HSP_100_onehot)\n",
    "print(HSP_100_onehot.shape)\n",
    "non_HSP_onehot = seq_padding(non_HSP_onehot)\n",
    "non_HSP_onehot = np.array(non_HSP_onehot)\n",
    "print(non_HSP_onehot.shape)"
   ]
  },
  {
   "cell_type": "code",
   "execution_count": 22,
   "metadata": {},
   "outputs": [
    {
     "name": "stdout",
     "output_type": "stream",
     "text": [
      "(12, 3321, 20)\n",
      "(51, 3321, 20)\n",
      "(8, 3321, 20)\n",
      "(53, 3321, 20)\n",
      "(35, 3321, 20)\n",
      "(20, 3321, 20)\n",
      "(500, 3321, 20)\n"
     ]
    }
   ],
   "source": [
    "HSP_20_ind_onehot = seq_padding(HSP_20_ind_onehot)\n",
    "HSP_20_ind_onehot = np.array(HSP_20_ind_onehot)\n",
    "print(HSP_20_ind_onehot.shape)\n",
    "HSP_40_ind_onehot = seq_padding(HSP_40_ind_onehot)\n",
    "HSP_40_ind_onehot = np.array(HSP_40_ind_onehot)\n",
    "print(HSP_40_ind_onehot.shape)\n",
    "HSP_60_ind_onehot = seq_padding(HSP_60_ind_onehot)\n",
    "HSP_60_ind_onehot = np.array(HSP_60_ind_onehot)\n",
    "print(HSP_60_ind_onehot.shape)\n",
    "HSP_70_ind_onehot = seq_padding(HSP_70_ind_onehot)\n",
    "HSP_70_ind_onehot = np.array(HSP_70_ind_onehot)\n",
    "print(HSP_70_ind_onehot.shape)\n",
    "HSP_90_ind_onehot = seq_padding(HSP_90_ind_onehot)\n",
    "HSP_90_ind_onehot = np.array(HSP_90_ind_onehot)\n",
    "print(HSP_90_ind_onehot.shape)\n",
    "HSP_100_ind_onehot = seq_padding(HSP_100_ind_onehot)\n",
    "HSP_100_ind_onehot = np.array(HSP_100_ind_onehot)\n",
    "print(HSP_100_ind_onehot.shape)\n",
    "non_HSP_ind_onehot = seq_padding(non_HSP_ind_onehot)\n",
    "non_HSP_ind_onehot = np.array(non_HSP_ind_onehot)\n",
    "print(non_HSP_ind_onehot.shape)"
   ]
  },
  {
   "cell_type": "code",
   "execution_count": 23,
   "metadata": {},
   "outputs": [
    {
     "name": "stdout",
     "output_type": "stream",
     "text": [
      "(2181, 3321, 20)\n",
      "(9965, 3321, 20)\n",
      "(12146, 3321, 20)\n"
     ]
    }
   ],
   "source": [
    "train_pos = np.concatenate([HSP_20_onehot,HSP_40_onehot,HSP_60_onehot,HSP_70_onehot,HSP_90_onehot,HSP_100_onehot], axis=0)\n",
    "print(train_pos.shape)\n",
    "train_neg = non_HSP_onehot\n",
    "print(train_neg.shape)\n",
    "train_x = np.concatenate([train_pos,train_neg], axis=0)\n",
    "print(train_x.shape)"
   ]
  },
  {
   "cell_type": "code",
   "execution_count": 24,
   "metadata": {},
   "outputs": [
    {
     "name": "stdout",
     "output_type": "stream",
     "text": [
      "(179, 3321, 20)\n",
      "(500, 3321, 20)\n",
      "(679, 3321, 20)\n"
     ]
    }
   ],
   "source": [
    "test_pos = np.concatenate([HSP_20_ind_onehot,HSP_40_ind_onehot,HSP_60_ind_onehot,HSP_70_ind_onehot,HSP_90_ind_onehot,HSP_100_ind_onehot], axis=0)\n",
    "print(test_pos.shape)\n",
    "test_neg = non_HSP_ind_onehot\n",
    "print(test_neg.shape)\n",
    "test_x = np.concatenate([test_pos,test_neg], axis=0)\n",
    "print(test_x.shape)"
   ]
  },
  {
   "cell_type": "code",
   "execution_count": 25,
   "metadata": {},
   "outputs": [
    {
     "name": "stdout",
     "output_type": "stream",
     "text": [
      "(12146,)\n"
     ]
    }
   ],
   "source": [
    "train_y = np.concatenate([np.ones((len(train_pos),)), np.zeros((len(train_neg),))], axis=0)  #竖向拼接\n",
    "print(train_y.shape)"
   ]
  },
  {
   "cell_type": "code",
   "execution_count": 26,
   "metadata": {},
   "outputs": [
    {
     "name": "stdout",
     "output_type": "stream",
     "text": [
      "(679,)\n"
     ]
    }
   ],
   "source": [
    "test_y = np.concatenate([np.ones((len(test_pos),)), np.zeros((len(test_neg),))], axis=0)  #竖向拼接\n",
    "print(test_y.shape)"
   ]
  },
  {
   "cell_type": "code",
   "execution_count": 27,
   "metadata": {},
   "outputs": [],
   "source": [
    "#定义SN、SP、ACC、MCC\n",
    "def sn_sp_acc_mcc(true_label,predict_label,pos_label=1):\n",
    "    import math\n",
    "    pos_num = np.sum(true_label==pos_label)\n",
    "    neg_num = true_label.shape[0]-pos_num\n",
    "    tp =np.sum((true_label==pos_label) & (predict_label==pos_label))\n",
    "    tn = np.sum(true_label==predict_label)-tp\n",
    "    sn = tp/pos_num\n",
    "    sp = tn/neg_num\n",
    "    acc = (tp+tn)/(pos_num+neg_num)\n",
    "    fn = pos_num - tp\n",
    "    fp = neg_num - tn\n",
    "    tp = np.array(tp,dtype=np.float64)\n",
    "    tn = np.array(tn,dtype=np.float64)\n",
    "    fp = np.array(fp,dtype=np.float64)\n",
    "    fn = np.array(fn,dtype=np.float64)\n",
    "    mcc = (tp*tn-fp*fn)/(np.sqrt((tp+fn)*(tp+fp)*(tn+fp)*(tn+fn)))\n",
    "    precision = tp/(tp+fp)\n",
    "    recall = tp/pos_num\n",
    "    f1 = 2*(precision * recall)/(precision+recall)\n",
    "    return sn,sp,acc,mcc,precision,recall,f1"
   ]
  },
  {
   "cell_type": "code",
   "execution_count": 28,
   "metadata": {},
   "outputs": [],
   "source": [
    "from tensorflow.keras import Input, Model\n",
    "from tensorflow.keras.layers import Embedding,Dense,Flatten,Dropout,Conv1D,BatchNormalization\n",
    "import tensorflow as tf\n",
    "\n",
    "def define_model():\n",
    "    maxlen = 3321\n",
    "    class_num = 1\n",
    "    last_activation = 'sigmoid'\n",
    "    input = Input((maxlen,20))\n",
    "    \n",
    "    x = Conv1D(256, 32, activation='relu',strides=1, padding='same')(input)\n",
    "    x = BatchNormalization()(x)\n",
    "    x = GlobalMaxPool1D()(x)\n",
    "    x = Dropout(0.5)(x)\n",
    "    \n",
    "    y = Conv1D(256, 16, activation='relu',strides=1, padding='same')(input)\n",
    "    y = BatchNormalization()(y)\n",
    "    y = GlobalMaxPool1D()(y)\n",
    "    y = Dropout(0.5)(y)\n",
    "    \n",
    "    z = Conv1D(256, 8, activation='relu',strides=1, padding='same')(input)\n",
    "    z = BatchNormalization()(z)\n",
    "    z = GlobalMaxPool1D()(z)\n",
    "    z = Dropout(0.5)(z)\n",
    "    \n",
    "    t = tf.keras.layers.Concatenate()([x,y,z])\n",
    "    t = Dense(64,activation='relu')(t)\n",
    "    t = Dense(16,activation='relu')(t)\n",
    "    output = Dense(class_num, activation=last_activation)(t)\n",
    "    model = Model(inputs=input, outputs=output)\n",
    "    model.compile(loss=tf.keras.losses.BinaryCrossentropy(from_logits=False),\n",
    "                  optimizer=tf.keras.optimizers.Adam(learning_rate=1e-4),\n",
    "                  metrics=['accuracy'])\n",
    "    return model"
   ]
  },
  {
   "cell_type": "code",
   "execution_count": null,
   "metadata": {},
   "outputs": [],
   "source": [
    "# 早停法\n",
    "checkpoint = tf.keras.callbacks.EarlyStopping(monitor='val_loss',\n",
    "                                              min_delta=0,\n",
    "                                              patience=5,\n",
    "                                              verbose=1,\n",
    "                                              mode='auto')"
   ]
  },
  {
   "cell_type": "code",
   "execution_count": 29,
   "metadata": {},
   "outputs": [],
   "source": [
    "def Kfold_ST(data_x,data_y,K):\n",
    "    kfold = StratifiedKFold(n_splits=K, shuffle=True, random_state=42)\n",
    "    sn_score = []\n",
    "    sp_score = []\n",
    "    acc_score = []\n",
    "    mcc_score = []\n",
    "    precision_score = []\n",
    "    recall_score = []\n",
    "    f1_score = []\n",
    "    auc_score = []\n",
    "    prc_score = []\n",
    "\n",
    "    for i,(train, test) in enumerate(kfold.split(data_x, data_y)):\n",
    "        if i != 4:\n",
    "            continue\n",
    "        else:\n",
    "            model = define_model()\n",
    "            model.fit(data_x[train],data_y[train],epochs=200,validation_data=(data_x[test],data_y[test]),shuffle=True,callbacks=[checkpoint],verbose=1)\n",
    "            res = model.predict(data_x[test])\n",
    "            pred = np.squeeze(res,axis=-1)\n",
    "            f = pred>0.5\n",
    "            pred[f]=1\n",
    "            pred[pred<0.6]=0\n",
    "            sn_sp_acc_mcc_5fold = sn_sp_acc_mcc(data_y[test],pred,pos_label=1)\n",
    "            print(sn_sp_acc_mcc_5fold)\n",
    "            FPR,TPR,threshold = roc_curve(data_y[test],model.predict(data_x[test]),pos_label=1)\n",
    "            AUC = auc(FPR,TPR)\n",
    "            precision, recall, _ = precision_recall_curve(test_y,model_test.predict(test_x))\n",
    "            PRC = average_precision_score(test_y,model_test.predict(test_x))\n",
    "            acc_new = sn_sp_acc_mcc_5fold[2]\n",
    "            model.save_weights('models/Mul_CNN_5fold_%d.h5'%i)\n",
    "            sn_score.append(sn_sp_acc_mcc_5fold[0])\n",
    "            sp_score.append(sn_sp_acc_mcc_5fold[1])\n",
    "            acc_score.append(sn_sp_acc_mcc_5fold[2])\n",
    "            mcc_score.append(sn_sp_acc_mcc_5fold[3])\n",
    "            precision_score.append(sn_sp_acc_mcc_5fold[4])\n",
    "            recall_score.append(sn_sp_acc_mcc_5fold[5])\n",
    "            f1_score.append(sn_sp_acc_mcc_5fold[6])\n",
    "            auc_score.append(AUC)\n",
    "            prc_score.append(PRC)\n",
    "        \n",
    "    return sn_score,sp_score,acc_score,mcc_score,precision_score,recall_score,f1_score,auc_score,prc_score"
   ]
  },
  {
   "cell_type": "code",
   "execution_count": 31,
   "metadata": {},
   "outputs": [
    {
     "name": "stdout",
     "output_type": "stream",
     "text": [
      "Model: \"model_1\"\n",
      "__________________________________________________________________________________________________\n",
      "Layer (type)                    Output Shape         Param #     Connected to                     \n",
      "==================================================================================================\n",
      "input_2 (InputLayer)            [(None, 3321, 20)]   0                                            \n",
      "__________________________________________________________________________________________________\n",
      "conv1d_3 (Conv1D)               (None, 3321, 256)    164096      input_2[0][0]                    \n",
      "__________________________________________________________________________________________________\n",
      "conv1d_4 (Conv1D)               (None, 3321, 256)    82176       input_2[0][0]                    \n",
      "__________________________________________________________________________________________________\n",
      "conv1d_5 (Conv1D)               (None, 3321, 256)    41216       input_2[0][0]                    \n",
      "__________________________________________________________________________________________________\n",
      "batch_normalization_3 (BatchNor (None, 3321, 256)    1024        conv1d_3[0][0]                   \n",
      "__________________________________________________________________________________________________\n",
      "batch_normalization_4 (BatchNor (None, 3321, 256)    1024        conv1d_4[0][0]                   \n",
      "__________________________________________________________________________________________________\n",
      "batch_normalization_5 (BatchNor (None, 3321, 256)    1024        conv1d_5[0][0]                   \n",
      "__________________________________________________________________________________________________\n",
      "global_max_pooling1d_3 (GlobalM (None, 256)          0           batch_normalization_3[0][0]      \n",
      "__________________________________________________________________________________________________\n",
      "global_max_pooling1d_4 (GlobalM (None, 256)          0           batch_normalization_4[0][0]      \n",
      "__________________________________________________________________________________________________\n",
      "global_max_pooling1d_5 (GlobalM (None, 256)          0           batch_normalization_5[0][0]      \n",
      "__________________________________________________________________________________________________\n",
      "dropout_3 (Dropout)             (None, 256)          0           global_max_pooling1d_3[0][0]     \n",
      "__________________________________________________________________________________________________\n",
      "dropout_4 (Dropout)             (None, 256)          0           global_max_pooling1d_4[0][0]     \n",
      "__________________________________________________________________________________________________\n",
      "dropout_5 (Dropout)             (None, 256)          0           global_max_pooling1d_5[0][0]     \n",
      "__________________________________________________________________________________________________\n",
      "concatenate_1 (Concatenate)     (None, 768)          0           dropout_3[0][0]                  \n",
      "                                                                 dropout_4[0][0]                  \n",
      "                                                                 dropout_5[0][0]                  \n",
      "__________________________________________________________________________________________________\n",
      "dense_3 (Dense)                 (None, 64)           49216       concatenate_1[0][0]              \n",
      "__________________________________________________________________________________________________\n",
      "dense_4 (Dense)                 (None, 16)           1040        dense_3[0][0]                    \n",
      "__________________________________________________________________________________________________\n",
      "dense_5 (Dense)                 (None, 1)            17          dense_4[0][0]                    \n",
      "==================================================================================================\n",
      "Total params: 340,833\n",
      "Trainable params: 339,297\n",
      "Non-trainable params: 1,536\n",
      "__________________________________________________________________________________________________\n"
     ]
    }
   ],
   "source": [
    "model = define_model()\n",
    "model.summary()"
   ]
  },
  {
   "cell_type": "code",
   "execution_count": null,
   "metadata": {},
   "outputs": [],
   "source": [
    "result_5fold_sn,result_5fold_sp,result_5fold_acc,result_5fold_mcc,result_5fold_precision,result_5fold_recall,result_5fold_f1,result_5fold_auc,result_5fold_prc = Kfold_ST(train_x,train_y,5)"
   ]
  },
  {
   "cell_type": "code",
   "execution_count": null,
   "metadata": {},
   "outputs": [],
   "source": [
    "with open(\"result/hsp_5fold.txt\",\"w\") as f:\n",
    "    f.write(\"result_5fold_sn:\"+str(result_5fold_sn)+'\\n')\n",
    "    f.write(\"result_5fold_sp:\"+str(result_5fold_sp)+'\\n')\n",
    "    f.write(\"result_5fold_acc:\"+str(result_5fold_acc)+'\\n')\n",
    "    f.write(\"result_5fold_mcc:\"+str(result_5fold_mcc)+'\\n')\n",
    "    f.write(\"result_5fold_precision:\"+str(result_5fold_precision)+'\\n')\n",
    "    f.write(\"result_5fold_recall:\"+str(result_5fold_recall)+'\\n')\n",
    "    f.write(\"result_5fold_f1:\"+str(result_5fold_f1)+'\\n')\n",
    "    f.write(\"result_5fold_auc:\"+str(result_5fold_auc)+'\\n')\n",
    "    f.write(\"result_5fold_prc:\"+str(result_5fold_prc)+'\\n')"
   ]
  },
  {
   "cell_type": "code",
   "execution_count": 31,
   "metadata": {},
   "outputs": [
    {
     "name": "stdout",
     "output_type": "stream",
     "text": [
      "0.9092089517771292\n",
      "0.9971901655795283\n",
      "0.9813928067402291\n",
      "0.9360157182183911\n",
      "0.9861799766163315\n",
      "0.9092089517771292\n",
      "0.9460517715430594\n",
      "0.9840589208114657\n",
      "0.9698652221558591\n"
     ]
    }
   ],
   "source": [
    "sn_mean = np.mean(result_5fold_sn)\n",
    "print(sn_mean)\n",
    "sp_mean = np.mean(result_5fold_sp)\n",
    "print(sp_mean)\n",
    "acc_mean = np.mean(result_5fold_acc)\n",
    "print(acc_mean)\n",
    "mcc_mean = np.mean(result_5fold_mcc)\n",
    "print(mcc_mean)\n",
    "precision_mean = np.mean(result_5fold_precision)\n",
    "print(precision_mean)\n",
    "recall_mean = np.mean(result_5fold_recall)\n",
    "print(recall_mean)\n",
    "f1_mean = np.mean(result_5fold_f1)\n",
    "print(f1_mean)\n",
    "auc_mean = np.mean(result_5fold_auc)\n",
    "print(auc_mean)\n",
    "prc_mean = np.mean(result_5fold_prc)\n",
    "print(prc_mean)"
   ]
  },
  {
   "cell_type": "code",
   "execution_count": 29,
   "metadata": {},
   "outputs": [],
   "source": [
    "model_test = define_model()"
   ]
  },
  {
   "cell_type": "code",
   "execution_count": 33,
   "metadata": {},
   "outputs": [
    {
     "name": "stdout",
     "output_type": "stream",
     "text": [
      "pos_num= 179\n",
      "neg_num= 500\n",
      "tp= 155\n",
      "tn= 493\n",
      "fn= 24\n",
      "fp= 7\n",
      "(0.8659217877094972, 0.986, 0.9543446244477173, 0.880660391938539, 0.9567901234567902, 0.8659217877094972, 0.9090909090909092)\n",
      "0.9445698324022346\n",
      "0.893343564383688\n"
     ]
    }
   ],
   "source": [
    "model_test.fit(train_x,train_y,epochs=200,validation_data=(test_x,test_y),shuffle=True,callbacks=[checkpoint],verbose=2)\n",
    "model_test.save('models/hsp_model.h5')\n",
    "res_test = model_test.predict(test_x)\n",
    "pred_test = np.squeeze(res_test,axis=-1)\n",
    "f_test = pred_test>0.5\n",
    "pred_test[f_test]=1\n",
    "pred_test[pred_test<0.6]=0\n",
    "sn_sp_acc_mcc_test = sn_sp_acc_mcc(test_y,pred_test,pos_label=1)\n",
    "print(sn_sp_acc_mcc_test)\n",
    "FPR_test,TPR_test,threshold_test = roc_curve(test_y,model_test.predict(test_x),pos_label=1)\n",
    "AUC_test = auc(FPR_test,TPR_test)\n",
    "print(AUC_test)\n",
    "precision_test, recall_test, _test = precision_recall_curve(test_y,model_test.predict(test_x))\n",
    "PRC_test = average_precision_score(test_y,model_test.predict(test_x))\n",
    "print(PRC_test)"
   ]
  },
  {
   "cell_type": "code",
   "execution_count": null,
   "metadata": {},
   "outputs": [],
   "source": []
  },
  {
   "cell_type": "code",
   "execution_count": null,
   "metadata": {},
   "outputs": [],
   "source": []
  },
  {
   "cell_type": "code",
   "execution_count": 32,
   "metadata": {},
   "outputs": [
    {
     "name": "stdout",
     "output_type": "stream",
     "text": [
      "(2181,)\n",
      "(2181,)\n",
      "(2181, 6)\n",
      "(179, 6)\n"
     ]
    }
   ],
   "source": [
    "#设置类别的数量\n",
    "num_classes = 6\n",
    "#需要转换的整数\n",
    "train_y_num = np.concatenate([train_20_y,train_40_y,train_60_y,train_70_y,train_90_y,train_100_y], axis=0)\n",
    "print(train_y_num.shape)\n",
    "test_y_num = np.concatenate([test_20_y,test_40_y,test_60_y,test_70_y,test_90_y,test_100_y], axis=0)\n",
    "print(train_y_num.shape)\n",
    "#将整数转为一个4位的one hot编码\n",
    "train_y = np.eye(num_classes)[train_y_num]\n",
    "test_y = np.eye(num_classes)[test_y_num]\n",
    "print(train_y.shape)\n",
    "print(test_y.shape)"
   ]
  },
  {
   "cell_type": "code",
   "execution_count": null,
   "metadata": {},
   "outputs": [],
   "source": [
    "from tensorflow.keras import Input, Model\n",
    "from tensorflow.keras.layers import Embedding,Dense,Flatten,Dropout,Conv1D,BatchNormalization\n",
    "import tensorflow as tf\n",
    "\n",
    "def define_class_model():\n",
    "    maxlen = 3321\n",
    "    class_num = 6\n",
    "    last_activation = 'softmax'\n",
    "    input = Input((maxlen,20))\n",
    "    \n",
    "    x = Conv1D(256, 32, activation='relu',strides=1, padding='same')(input)\n",
    "    x = BatchNormalization()(x)\n",
    "    x = GlobalMaxPool1D()(x)\n",
    "    x = Dropout(0.5)(x)\n",
    "    \n",
    "    y = Conv1D(256, 16, activation='relu',strides=1, padding='same')(input)\n",
    "    y = BatchNormalization()(y)\n",
    "    y = GlobalMaxPool1D()(y)\n",
    "    y = Dropout(0.5)(y)\n",
    "    \n",
    "    z = Conv1D(256, 8, activation='relu',strides=1, padding='same')(input)\n",
    "    z = BatchNormalization()(z)\n",
    "    z = GlobalMaxPool1D()(z)\n",
    "    z = Dropout(0.5)(z)\n",
    "    \n",
    "    t = tf.keras.layers.Concatenate()([x,y,z])\n",
    "    t = Dense(64,activation='relu')(t)\n",
    "    t = Dense(16,activation='relu')(t)\n",
    "    output = Dense(class_num, activation=last_activation)(t)\n",
    "    model = Model(inputs=input, outputs=output)\n",
    "    model.compile(loss=tf.keras.losses.BinaryCrossentropy(from_logits=False),\n",
    "                  optimizer=tf.keras.optimizers.Adam(learning_rate=1e-4),\n",
    "                  metrics=['accuracy'])\n",
    "    return model"
   ]
  },
  {
   "cell_type": "code",
   "execution_count": null,
   "metadata": {},
   "outputs": [],
   "source": [
    "model_class = define_class_model()"
   ]
  },
  {
   "cell_type": "code",
   "execution_count": null,
   "metadata": {},
   "outputs": [],
   "source": [
    "model_class.fit(train_x,train_y,epochs=200,validation_data=(test_x,test_y),shuffle=True,callbacks=[checkpoint],verbose=2)\n",
    "model_class.save('models/hsp_class_model.h5')\n",
    "res_hspclass = model_class.predict(test_x)     #预测\n",
    "sn_result = []\n",
    "sp_result = []\n",
    "acc_result = []\n",
    "mcc_result = []\n",
    "precision_result = []\n",
    "recall_result = []\n",
    "f1_result = []\n",
    "auc_result = []\n",
    "prc_result = []\n",
    "for j in range(6):\n",
    "    res_class = res_hspclass[:,j]\n",
    "    pred_class = res_class\n",
    "    f_class = pred_class>0.5\n",
    "    pred_class[f_class]=1\n",
    "    pred_class[pred_class<0.6]=0\n",
    "    sn_sp_acc_mcc_class = sn_sp_acc_mcc(test_y[:,j],pred_test,pos_label=1)\n",
    "    print(sn_sp_acc_mcc_class)\n",
    "    FPR_test,TPR_test,threshold_test = roc_curve(test_y[:,j],model_class.predict(test_x)[:,j],pos_label=1)\n",
    "    #AUC值计算\n",
    "    AUC_class= auc(FPR_class,TPR_class)\n",
    "    print(AUC_class)\n",
    "    precision_class, recall_class, _class = precision_recall_curve(test_y,model_class.predict(test_x))\n",
    "    PRC_class = average_precision_score(test_y,model_class.predict(test_x))\n",
    "    print(PRC_class)\n",
    "    sn_result.append(sn_sp_acc_mcc_class[0])\n",
    "    sp_result.append(sn_sp_acc_mcc_class[1])\n",
    "    acc_result.append(sn_sp_acc_mcc_class[2])\n",
    "    mcc_result.append(sn_sp_acc_mcc_class[3])\n",
    "    precision_result.append(sn_sp_acc_mcc_class[4])\n",
    "    recall_result.append(sn_sp_acc_mcc_class[5])\n",
    "    f1_result.append(sn_sp_acc_mcc_class[6])\n",
    "    auc_result.append(AUC_class)\n",
    "    prc_result.append(PRC_class)"
   ]
  },
  {
   "cell_type": "code",
   "execution_count": null,
   "metadata": {},
   "outputs": [],
   "source": [
    "with open(\"result/hsp_mulclass.txt\",\"w\") as f:\n",
    "    f.write(\"class_sn:\"+str(sn_result)+'\\n')\n",
    "    f.write(\"class_sp:\"+str(sp_result)+'\\n')\n",
    "    f.write(\"class_acc:\"+str(acc_result)+'\\n')\n",
    "    f.write(\"class_mcc:\"+str(mcc_result)+'\\n')\n",
    "    f.write(\"class_precision:\"+str(precision_result)+'\\n')\n",
    "    f.write(\"class_recall:\"+str(recall_result)+'\\n')\n",
    "    f.write(\"class_f1:\"+str(f1_result)+'\\n')\n",
    "    f.write(\"class_auc:\"+str(auc_result)+'\\n')\n",
    "    f.write(\"class_prc:\"+str(prc_result)+'\\n')"
   ]
  },
  {
   "cell_type": "code",
   "execution_count": null,
   "metadata": {},
   "outputs": [],
   "source": []
  }
 ],
 "metadata": {
  "kernelspec": {
   "display_name": "Python 3",
   "language": "python",
   "name": "python3"
  },
  "language_info": {
   "codemirror_mode": {
    "name": "ipython",
    "version": 3
   },
   "file_extension": ".py",
   "mimetype": "text/x-python",
   "name": "python",
   "nbconvert_exporter": "python",
   "pygments_lexer": "ipython3",
   "version": "3.7.0"
  }
 },
 "nbformat": 4,
 "nbformat_minor": 2
}
